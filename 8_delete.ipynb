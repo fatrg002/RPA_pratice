{
 "cells": [
  {
   "cell_type": "code",
   "execution_count": 9,
   "metadata": {},
   "outputs": [],
   "source": [
    "from openpyxl import load_workbook\n",
    "wb = load_workbook(\"cell_rangesample.xlsx\")\n",
    "ws = wb.active\n",
    "\n",
    "#ws.delete_rows(8) #選第7列刪除\n",
    "#ws.delete_rows(8,3) #刪除從7開始後的3列7、8、9\n",
    "#wb.save(\"sample_delete_row.xlsx\")\n",
    "\n",
    "#ws.delete_cols(2) #刪除第2行\n",
    "ws.delete_cols(2,2)#刪除第2行後面的2行\n",
    "wb.save(\"sample_delete_col.xlsx\")\n"
   ]
  },
  {
   "cell_type": "code",
   "execution_count": null,
   "metadata": {},
   "outputs": [],
   "source": []
  }
 ],
 "metadata": {
  "kernelspec": {
   "display_name": "Python 3",
   "language": "python",
   "name": "python3"
  },
  "language_info": {
   "codemirror_mode": {
    "name": "ipython",
    "version": 3
   },
   "file_extension": ".py",
   "mimetype": "text/x-python",
   "name": "python",
   "nbconvert_exporter": "python",
   "pygments_lexer": "ipython3",
   "version": "3.7.3"
  }
 },
 "nbformat": 4,
 "nbformat_minor": 2
}
