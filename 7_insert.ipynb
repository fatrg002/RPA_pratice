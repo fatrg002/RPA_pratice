{
 "cells": [
  {
   "cell_type": "code",
   "execution_count": 4,
   "metadata": {},
   "outputs": [],
   "source": [
    "from openpyxl import load_workbook\n",
    "wb = load_workbook(\"cell_rangesample.xlsx\")\n",
    "ws = wb.active\n",
    "#ws.insert_rows(8)#增加空白列\n",
    "#ws.insert_rows(8,5)#從第8列開始增加5列\n",
    "\n",
    "#ws.insert_cols(2)#增加空白行\n",
    "ws.insert_cols(2,3)#從2開始增加3行\n",
    "\n",
    "\n",
    "\n",
    "#wb.save(\"sample_insert_rows.xlsx\")\n",
    "wb.save(\"sample_insert_cols.xlsx\")"
   ]
  },
  {
   "cell_type": "code",
   "execution_count": null,
   "metadata": {},
   "outputs": [],
   "source": []
  }
 ],
 "metadata": {
  "kernelspec": {
   "display_name": "Python 3",
   "language": "python",
   "name": "python3"
  },
  "language_info": {
   "codemirror_mode": {
    "name": "ipython",
    "version": 3
   },
   "file_extension": ".py",
   "mimetype": "text/x-python",
   "name": "python",
   "nbconvert_exporter": "python",
   "pygments_lexer": "ipython3",
   "version": "3.7.3"
  }
 },
 "nbformat": 4,
 "nbformat_minor": 2
}
