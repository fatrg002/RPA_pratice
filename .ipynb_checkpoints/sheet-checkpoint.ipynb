{
 "cells": [
  {
   "cell_type": "code",
   "execution_count": 36,
   "metadata": {},
   "outputs": [],
   "source": [
    "from openpyxl import Workbook\n",
    "wb = Workbook()\n",
    "ws = wb.create_sheet()\n",
    "ws.title = \"MySheet\"\n",
    "ws.sheet_properties.tabColor = \"9999ff\"\n"
   ]
  },
  {
   "cell_type": "code",
   "execution_count": 37,
   "metadata": {},
   "outputs": [
    {
     "name": "stdout",
     "output_type": "stream",
     "text": [
      "['Sheet', 'MySheet', 'NewSheet', 'YourSheet', 'copied sheet']\n"
     ]
    }
   ],
   "source": [
    "ws1 = wb.create_sheet(\"YourSheet\")\n",
    "ws2 = wb.create_sheet(\"NewSheet\",2)#(sheetname,index位置)\n",
    "new_ws = wb[\"NewSheet\"]\n",
    "new2_ws = wb[\"YourSheet\"]\n",
    "\n",
    "#--------複製sheet內容-------\n",
    "new_ws[\"A1\"]=\"Test\"\n",
    "target = wb.copy_worksheet(new_ws)\n",
    "target.title = \"copied sheet\"\n",
    "\n",
    "print(wb.sheetnames)#所有sheet的name\n",
    "\n",
    "#------------------------\n",
    "wb.save(\"sample.xlsx\")"
   ]
  },
  {
   "cell_type": "code",
   "execution_count": null,
   "metadata": {},
   "outputs": [],
   "source": []
  }
 ],
 "metadata": {
  "kernelspec": {
   "display_name": "Python 3",
   "language": "python",
   "name": "python3"
  },
  "language_info": {
   "codemirror_mode": {
    "name": "ipython",
    "version": 3
   },
   "file_extension": ".py",
   "mimetype": "text/x-python",
   "name": "python",
   "nbconvert_exporter": "python",
   "pygments_lexer": "ipython3",
   "version": "3.7.3"
  }
 },
 "nbformat": 4,
 "nbformat_minor": 2
}
