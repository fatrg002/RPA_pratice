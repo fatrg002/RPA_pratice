{
 "cells": [
  {
   "cell_type": "code",
   "execution_count": 10,
   "metadata": {},
   "outputs": [],
   "source": [
    "from openpyxl import Workbook\n",
    "from random import *\n",
    "from openpyxl.utils.cell import coordinate_from_string\n",
    "wb = Workbook()\n",
    "ws = wb.active\n",
    "\n",
    "ws.append([\"번호\",\"영어\",\"수학\"])\n",
    "for i in range(1,11):\n",
    "    ws.append([i,randint(0,100),randint(0,100)])\n",
    "\n"
   ]
  },
  {
   "cell_type": "code",
   "execution_count": 20,
   "metadata": {},
   "outputs": [
    {
     "name": "stdout",
     "output_type": "stream",
     "text": [
      "영어\n",
      "29\n",
      "16\n",
      "79\n",
      "49\n",
      "89\n",
      "40\n",
      "24\n",
      "13\n",
      "49\n",
      "63\n",
      "수학\n",
      "9\n",
      "69\n",
      "0\n",
      "1\n",
      "93\n",
      "62\n",
      "23\n",
      "51\n",
      "1\n",
      "37\n"
     ]
    }
   ],
   "source": [
    "col_range = ws[\"B:C\"] #B~C\n",
    "for cols in col_range:\n",
    "    for cell in cols:\n",
    "        print(cell.value)\n",
    "\n",
    "wb.save(\"cell_rangesample.xlsx\")"
   ]
  },
  {
   "cell_type": "code",
   "execution_count": 12,
   "metadata": {},
   "outputs": [
    {
     "name": "stdout",
     "output_type": "stream",
     "text": [
      "번호\n",
      "영어\n",
      "수학\n"
     ]
    }
   ],
   "source": [
    "row_title = ws[1] #印出每行title\n",
    "for cell in row_title:\n",
    "    print(cell.value)"
   ]
  },
  {
   "cell_type": "code",
   "execution_count": 13,
   "metadata": {},
   "outputs": [],
   "source": [
    "#row_range = ws[2:6]\n",
    "#\n",
    "#for rows in row_range:\n",
    "#    for cell in rows:\n",
    "#        print(cell.value,end=\" \")\n",
    "#    print()"
   ]
  },
  {
   "cell_type": "code",
   "execution_count": 19,
   "metadata": {},
   "outputs": [
    {
     "name": "stdout",
     "output_type": "stream",
     "text": [
      "2 A 2 B 2 C \n",
      "3 A 3 B 3 C \n",
      "4 A 4 B 4 C \n",
      "5 A 5 B 5 C \n",
      "6 A 6 B 6 C \n",
      "7 A 7 B 7 C \n",
      "8 A 8 B 8 C \n",
      "9 A 9 B 9 C \n",
      "10 A 10 B 10 C \n",
      "11 A 11 B 11 C \n"
     ]
    }
   ],
   "source": [
    "#row_range = ws[2:ws.max_row]\n",
    "#for rows in row_range:\n",
    "#    for cell in rows:\n",
    "#        #print(cell.value,end = \" \")\n",
    "#        #print(cell.coordinate,end = \" \") #位置號碼\n",
    "#        xy = coordinate_from_string(cell.coordinate)\n",
    "#        #print(xy,end=\" \")\n",
    "#        #print(xy[1],end=\" \")\n",
    "#        #print(xy[0],end= \" \")\n",
    "#    print()"
   ]
  },
  {
   "cell_type": "code",
   "execution_count": 21,
   "metadata": {},
   "outputs": [
    {
     "name": "stdout",
     "output_type": "stream",
     "text": [
      "((<Cell 'Sheet'.A1>, <Cell 'Sheet'.B1>, <Cell 'Sheet'.C1>), (<Cell 'Sheet'.A2>, <Cell 'Sheet'.B2>, <Cell 'Sheet'.C2>), (<Cell 'Sheet'.A3>, <Cell 'Sheet'.B3>, <Cell 'Sheet'.C3>), (<Cell 'Sheet'.A4>, <Cell 'Sheet'.B4>, <Cell 'Sheet'.C4>), (<Cell 'Sheet'.A5>, <Cell 'Sheet'.B5>, <Cell 'Sheet'.C5>), (<Cell 'Sheet'.A6>, <Cell 'Sheet'.B6>, <Cell 'Sheet'.C6>), (<Cell 'Sheet'.A7>, <Cell 'Sheet'.B7>, <Cell 'Sheet'.C7>), (<Cell 'Sheet'.A8>, <Cell 'Sheet'.B8>, <Cell 'Sheet'.C8>), (<Cell 'Sheet'.A9>, <Cell 'Sheet'.B9>, <Cell 'Sheet'.C9>), (<Cell 'Sheet'.A10>, <Cell 'Sheet'.B10>, <Cell 'Sheet'.C10>), (<Cell 'Sheet'.A11>, <Cell 'Sheet'.B11>, <Cell 'Sheet'.C11>))\n"
     ]
    }
   ],
   "source": [
    "print(tuple(ws.rows))"
   ]
  },
  {
   "cell_type": "code",
   "execution_count": 22,
   "metadata": {},
   "outputs": [
    {
     "name": "stdout",
     "output_type": "stream",
     "text": [
      "((<Cell 'Sheet'.A1>, <Cell 'Sheet'.A2>, <Cell 'Sheet'.A3>, <Cell 'Sheet'.A4>, <Cell 'Sheet'.A5>, <Cell 'Sheet'.A6>, <Cell 'Sheet'.A7>, <Cell 'Sheet'.A8>, <Cell 'Sheet'.A9>, <Cell 'Sheet'.A10>, <Cell 'Sheet'.A11>), (<Cell 'Sheet'.B1>, <Cell 'Sheet'.B2>, <Cell 'Sheet'.B3>, <Cell 'Sheet'.B4>, <Cell 'Sheet'.B5>, <Cell 'Sheet'.B6>, <Cell 'Sheet'.B7>, <Cell 'Sheet'.B8>, <Cell 'Sheet'.B9>, <Cell 'Sheet'.B10>, <Cell 'Sheet'.B11>), (<Cell 'Sheet'.C1>, <Cell 'Sheet'.C2>, <Cell 'Sheet'.C3>, <Cell 'Sheet'.C4>, <Cell 'Sheet'.C5>, <Cell 'Sheet'.C6>, <Cell 'Sheet'.C7>, <Cell 'Sheet'.C8>, <Cell 'Sheet'.C9>, <Cell 'Sheet'.C10>, <Cell 'Sheet'.C11>))\n"
     ]
    }
   ],
   "source": [
    "print(tuple(ws.columns))"
   ]
  },
  {
   "cell_type": "code",
   "execution_count": 25,
   "metadata": {},
   "outputs": [
    {
     "name": "stdout",
     "output_type": "stream",
     "text": [
      "영어 29 16 79 49 89 40 24 13 49 63 "
     ]
    }
   ],
   "source": [
    "#for rows in tuple(ws.rows):\n",
    "#    print(rows[1].value,end=\" \")"
   ]
  },
  {
   "cell_type": "code",
   "execution_count": 27,
   "metadata": {},
   "outputs": [
    {
     "name": "stdout",
     "output_type": "stream",
     "text": [
      "번호 영어 수학 "
     ]
    }
   ],
   "source": [
    "#for cols in tuple(ws.columns):\n",
    "#    print(cols[0].value,end=\" \")"
   ]
  },
  {
   "cell_type": "code",
   "execution_count": 29,
   "metadata": {},
   "outputs": [
    {
     "name": "stdout",
     "output_type": "stream",
     "text": [
      "영어\n",
      "29\n",
      "16\n",
      "79\n",
      "49\n",
      "89\n",
      "40\n",
      "24\n",
      "13\n",
      "49\n",
      "63\n"
     ]
    }
   ],
   "source": [
    "#for row in ws.iter_rows():\n",
    "#    print(row[1].value)"
   ]
  },
  {
   "cell_type": "code",
   "execution_count": 33,
   "metadata": {},
   "outputs": [
    {
     "name": "stdout",
     "output_type": "stream",
     "text": [
      "29 9\n",
      "16 69\n",
      "79 0\n",
      "49 1\n",
      "89 93\n",
      "40 62\n",
      "24 23\n",
      "13 51\n",
      "49 1\n",
      "63 37\n"
     ]
    }
   ],
   "source": [
    "for row in ws.iter_rows(min_row=2,max_row=11,min_col=2,max_col=3): #min_row,min_max上到下1~5,min_col,max_col左到右\n",
    "    print(row[0].value,row[1].value)"
   ]
  },
  {
   "cell_type": "code",
   "execution_count": 30,
   "metadata": {},
   "outputs": [
    {
     "name": "stdout",
     "output_type": "stream",
     "text": [
      "번호 영어 수학 "
     ]
    }
   ],
   "source": [
    "for cols in ws.iter_cols():\n",
    "    print(cols[0].value,end=\" \")"
   ]
  },
  {
   "cell_type": "code",
   "execution_count": null,
   "metadata": {},
   "outputs": [],
   "source": [
    "for cols in ws.iter_cols(min):\n",
    "    print(cols[0].value,end=\" \")"
   ]
  }
 ],
 "metadata": {
  "kernelspec": {
   "display_name": "Python 3",
   "language": "python",
   "name": "python3"
  },
  "language_info": {
   "codemirror_mode": {
    "name": "ipython",
    "version": 3
   },
   "file_extension": ".py",
   "mimetype": "text/x-python",
   "name": "python",
   "nbconvert_exporter": "python",
   "pygments_lexer": "ipython3",
   "version": "3.7.3"
  }
 },
 "nbformat": 4,
 "nbformat_minor": 2
}
